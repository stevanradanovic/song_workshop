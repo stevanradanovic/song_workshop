{
 "cells": [
  {
   "cell_type": "markdown",
   "metadata": {},
   "source": [
    "# Business objectives\n",
    "Predict song hits "
   ]
  },
  {
   "cell_type": "markdown",
   "metadata": {},
   "source": [
    "## Data\n",
    "[Spotify song's data](https://www.kaggle.com/edalrami/19000-spotify-songs)  \n",
    "[Song's lyrics](https://www.kaggle.com/gyani95/380000-lyrics-from-metrolyrics)  \n",
    "[fasttext embs](https://dl.fbaipublicfiles.com/fasttext/vectors-english/wiki-news-300d-1M.vec.zip)"
   ]
  },
  {
   "cell_type": "markdown",
   "metadata": {},
   "source": [
    "## Data Mining goals\n",
    "roc_auc > 0.7 [The traditional academic point system](http://gim.unmc.edu/dxtests/roc3.htm)"
   ]
  },
  {
   "cell_type": "markdown",
   "metadata": {},
   "source": [
    "# Plan\n",
    "<input type=\"checkbox\"> load and prepare song and lyrics data\n",
    "<br><input type=\"checkbox\"> eda song's data\n",
    "<br><input type=\"checkbox\"> eda song's lyrics\n",
    "<br><input type=\"checkbox\"> modelling\n",
    "<br><input type=\"checkbox\"> evaluating the results"
   ]
  },
  {
   "cell_type": "code",
   "execution_count": null,
   "metadata": {},
   "outputs": [],
   "source": [
    "import warnings\n",
    "warnings.filterwarnings('ignore')\n",
    "\n",
    "import os\n",
    "import io\n",
    "import re\n",
    "import pandas as pd\n",
    "import numpy as np\n",
    "from wordcloud import WordCloud\n",
    "from sklearn.manifold import TSNE\n",
    "from sklearn.model_selection import train_test_split\n",
    "from sklearn.preprocessing import MinMaxScaler, StandardScaler\n",
    "from sklearn.linear_model import LogisticRegressionCV, RidgeCV\n",
    "from sklearn.preprocessing import LabelEncoder\n",
    "from sklearn.feature_extraction.text import CountVectorizer, ENGLISH_STOP_WORDS\n",
    "from sklearn.metrics import roc_auc_score\n",
    "\n",
    "from plotly.offline import init_notebook_mode, iplot\n",
    "import plotly.graph_objs as go\n",
    "import seaborn as sns; sns.set_style(\"whitegrid\")\n",
    "from matplotlib import rcParams\n",
    "from matplotlib import pyplot as plt\n",
    "\n",
    "init_notebook_mode(connected=True)\n",
    "np.set_printoptions(suppress=True)"
   ]
  },
  {
   "cell_type": "code",
   "execution_count": null,
   "metadata": {},
   "outputs": [],
   "source": [
    "sns.set(context='poster', style='white')\n",
    "rcParams['font.family'] = 'sans-serif'\n",
    "rcParams['font.sans-serif'] = 'arial'\n",
    "\n",
    "%config InlineBackend.figure_format = 'retina'\n",
    "%matplotlib inline"
   ]
  },
  {
   "cell_type": "code",
   "execution_count": null,
   "metadata": {},
   "outputs": [],
   "source": [
    "PATH_SPOTIFY_SONG_DATA = \"input/spotify_song_data.csv\"\n",
    "PATH_SPOTIFY_SONG_INFO = \"input/spotify_song_info.csv\"\n",
    "PATH_LYRICS = \"input/lyrics.csv\"\n",
    "PATH_WORD_EMBS = \"input/wiki-news-300d-1M.vec\""
   ]
  },
  {
   "cell_type": "markdown",
   "metadata": {},
   "source": [
    "# load song's data"
   ]
  },
  {
   "cell_type": "code",
   "execution_count": null,
   "metadata": {},
   "outputs": [],
   "source": [
    "df_data=pd.read_csv(PATH_SPOTIFY_SONG_DATA)\n",
    "df_info=pd.read_csv(PATH_SPOTIFY_SONG_INFO)\n",
    "df = df_data.merge(df_info[['artist_name']], left_index=True, right_index=True)\n",
    "df = df.drop_duplicates().reset_index(drop=True)\n",
    "del df_info, df_data \n",
    "df = df.groupby(['artist_name', 'song_name']).first().reset_index()\n",
    "df['song'] = df['song_name'].apply(lambda x: '-'.join(x.lower().split()))\n",
    "df['song'] = df['song'].apply(lambda x: re.sub(r'\\([^)]*\\)', '', x).strip())\n",
    "\n",
    "df['artist'] = df['artist_name'].apply(lambda x: '-'.join(x.lower().split()))"
   ]
  },
  {
   "cell_type": "markdown",
   "metadata": {},
   "source": [
    "# load song's lyrics"
   ]
  },
  {
   "cell_type": "code",
   "execution_count": null,
   "metadata": {},
   "outputs": [],
   "source": [
    "df_lyrics = pd.read_csv(PATH_LYRICS, index_col=0)\n",
    "df_lyrics['lyrics'] = df_lyrics['lyrics'].str.lower()\n",
    "lyrics_instr = ['instrumental',\n",
    "'[instrumental]',\n",
    "'(instrumental)',\n",
    "'( instrumental )',\n",
    "'instru',\n",
    "'- instrumental -',\n",
    "'[bonus track]',\n",
    "'we are not in a position to display these lyrics due to licensing restrictions. sorry for the inconvinience.']\n",
    "\n",
    "\n",
    "df_lyrics = df_lyrics[~df_lyrics['lyrics'].isin(lyrics_instr)].dropna().reset_index(drop=True)\n",
    "df_lyrics['composition'] = df_lyrics['artist'].apply(lambda x: ' '.join(x.split('-')).title()) + ' - ' + df_lyrics['song'].apply(lambda x: ' '.join(x.split('-')).capitalize())\n",
    "df_lyrics = df_lyrics.dropna().reset_index(drop=True)"
   ]
  },
  {
   "cell_type": "code",
   "execution_count": null,
   "metadata": {},
   "outputs": [],
   "source": [
    "df = df.merge(df_lyrics, on=['artist','song'])\n",
    "del df_lyrics"
   ]
  },
  {
   "cell_type": "code",
   "execution_count": null,
   "metadata": {},
   "outputs": [],
   "source": [
    "window_length = 200\n",
    "vec_len = 300\n",
    "\n",
    "def normalize(text):\n",
    "    return re.sub(r\"[^a-z0-9]+\", \" \", text.lower())\n",
    "\n",
    "def text_to_vector(dct_text_vec, text):\n",
    "    \"\"\"\n",
    "    Given a string, normalizes it, then splits it into words and finally converts\n",
    "    it to a sequence of word vectors.\n",
    "    \"\"\"\n",
    "    text = normalize(text)\n",
    "    words = text.split()\n",
    "    window = words[-window_length:]\n",
    "    \n",
    "    x = np.zeros((window_length, vec_len))\n",
    "    for i, word in enumerate(window):\n",
    "        if word in dct_text_vec:\n",
    "            x[i, :] = np.array(dct_fasttext[word]).astype('float32')\n",
    "    return x.mean(axis=0)\n",
    "\n",
    "\n",
    "def load_vectors(fname):\n",
    "    fin = io.open(fname, 'r', encoding='utf-8', newline='\\n', errors='ignore')\n",
    "    n, d = map(int, fin.readline().split())\n",
    "    data = {}\n",
    "    for line in fin:\n",
    "        tokens = line.rstrip().split(' ')\n",
    "        data[tokens[0]] = list(map(float, tokens[1:]))\n",
    "    return data\n",
    "\n",
    "dct_fasttext = load_vectors(PATH_WORD_EMBS)"
   ]
  },
  {
   "cell_type": "markdown",
   "metadata": {},
   "source": [
    "# EDA"
   ]
  },
  {
   "cell_type": "markdown",
   "metadata": {},
   "source": [
    "* **The popularity** of a song is a metric of how often the song has been streamed on Spotify，but with more recent streams weighted more heavily.\n",
    "* **Acousticness** describes whether the song uses primarily acoustic instruments or electronic/electric instruments. A value of 1.0 indicates that a song is purely acoustic. From hist - ratio 2:1\n",
    "* **Danceability** describes how suitable a track is for dancing based on a combination of musical elements including tempo, rhythmic stability, beat strength, and overall regularity, with a value of 1.0 indicating high danceability.\n",
    "* **Duration (ms)** simply indicates the length of the song. Close to normal distibution.\n",
    "* **Energy** is different from danceability in that it is a perceptual measure of intensity and activity. Energetic tracks feel dense, fast, loud, and noisy. For example, death metal would have a high energy value while a Bach prelude would have a low one. Songs skewed towards having higher energy.\n",
    "* **Instrumentalness** describes the extent to which the singer is not the primary performer of the song.\n",
    "* **Key** represents the key signature the track is in. Integers map to pitches using standard pitch class notation where 0 = C, 1 = C#/Db, 2 = D, etc.\n",
    "* **Liveness** detects the presence of an audience in the recording. Higher liveness values represent an increased probability that the song was performed and recorded live. It appears that most songs are studio-recorded.\n",
    "* The overall **loudness** of a recording is measured in decibels (dB). Loudness values are averaged across the entire song and typically range between -60dB and 0dB.\n",
    "* **Mode** indicates whether a song is in primarily a major key or a minor key. \n",
    "* **Speechiness** detects the presence of spoken words in a recording. The more exclusively speech-like the recording (ex. talk shows, audio books, etc.), the closer the speechiness is to 1.0. A significant number have non-zero speechiness, most likely rap songs.\n",
    "* A song's **tempo** is its speed, or the number of beats per minute (BPM). Tempo roughly appears to be normally distributed around 120BPM.\n",
    "* **The time signature** is a notational convention to specify how many beats are in each bar of music. \n",
    "* **Valence** describes the musical positiveness conveyed by the song. In other words, songs with high valence sound more happy/positive/cheerful while songs with low valance sound more negative/depressed/angry. \n"
   ]
  },
  {
   "cell_type": "markdown",
   "metadata": {},
   "source": [
    "### Plot data distribution"
   ]
  },
  {
   "cell_type": "code",
   "execution_count": null,
   "metadata": {},
   "outputs": [],
   "source": [
    "col_hist = ['song_popularity', 'acousticness', 'danceability', 'song_duration_ms', \n",
    "            'energy', 'instrumentalness', 'liveness', 'loudness', \n",
    "            'speechiness',  'tempo',  'audio_valence']\n",
    "\n",
    "titles = ['Popularity', 'Acousticness', 'Danceability', 'Duration (ms)', \n",
    "          'Energy', 'Instrumentalness',  'Liveness', 'Loudness', \n",
    "           'Speechiness', 'Tempo', 'Valence']\n",
    "\n",
    "fig, ax = plt.subplots(4, 3)\n",
    "n_ax_row = 3\n",
    "for i, col in enumerate(col_hist):\n",
    "    curr_ax = ax[i // n_ax_row, i % n_ax_row]\n",
    "    df[col].hist(figsize=(15,18), bins=20, alpha=0.75, ax=curr_ax)\n",
    "    curr_ax.set_title(titles[i])\n",
    "    if i % n_ax_row == 0:\n",
    "        curr_ax.set_ylabel('Number of Songs')\n",
    "plt.suptitle('Distributions of Spotify Audio Features', fontsize=30, y=1.05)\n",
    "plt.tight_layout()"
   ]
  },
  {
   "cell_type": "code",
   "execution_count": null,
   "metadata": {},
   "outputs": [],
   "source": [
    "col_cat=[\"key\",\"audio_mode\",\"time_signature\"]\n",
    "\n",
    "col_quant=[\"song_duration_ms\",\n",
    "\"acousticness\",\n",
    "\"danceability\",\n",
    "\"energy\",\n",
    "\"instrumentalness\",\n",
    "\"liveness\",\n",
    "\"loudness\",\n",
    "\"speechiness\",\n",
    "\"tempo\",\n",
    "\"audio_valence\"]\n",
    "\n",
    "df['is_hit'] = (df['song_popularity']>=70).astype(int)"
   ]
  },
  {
   "cell_type": "markdown",
   "metadata": {},
   "source": [
    "### Plot influenced  lyrics words for each feature"
   ]
  },
  {
   "cell_type": "code",
   "execution_count": null,
   "metadata": {},
   "outputs": [],
   "source": [
    "class colormap_size_func(object):\n",
    "    def __init__(self, colormap, max_font_size):\n",
    "        import matplotlib.pyplot as plt\n",
    "        self.colormap = plt.cm.get_cmap(colormap)\n",
    "        self.max_font_size = max_font_size\n",
    "\n",
    "    def __call__(self, word, font_size, position, orientation,\n",
    "                 random_state=None, **kwargs):\n",
    "        if random_state is None:\n",
    "            random_state = Random()\n",
    "        r, g, b, _ = 255 * np.array(self.colormap(font_size / self.max_font_size))\n",
    "        return \"rgb({:.0f}, {:.0f}, {:.0f})\".format(r, g, b)\n",
    "fig, axes = plt.subplots(2, 3, figsize=(16,10))\n",
    "axes = axes.ravel()\n",
    "\n",
    "audio_features = ['danceability', 'audio_valence', 'acousticness','loudness', 'energy', \"instrumentalness\",]\n",
    "titles = [ 'most danceable words', 'most valent words',\n",
    "          'most acoustic words', 'loudest words', 'most energetic words' , 'most instrumental words']\n",
    "cmaps = ['Blues', 'cool', 'Wistia', 'copper_r', 'winter_r', 'spring_r']\n",
    "\n",
    "count = CountVectorizer(min_df=20, max_df=1000)\n",
    "X_vect = count.fit_transform(df['lyrics'])\n",
    "for i, feature in enumerate(audio_features):\n",
    "    ridge = RidgeCV(alphas=[1, 10, 30, 1e2, 3e2, 1e3, 2e3, 3e3, 4e3, 1e5, 3e5])\n",
    "    ridge.fit(X_vect, df[feature])\n",
    "    score = ridge.score(X_vect, df[feature])\n",
    "    coefs = ridge.coef_\n",
    "    coefs = coefs.squeeze()\n",
    "    vocab = count.get_feature_names()\n",
    "\n",
    "    color_func = colormap_size_func(cmaps[i], 300)\n",
    "    dictionary = dict(zip(vocab, coefs))\n",
    "    wordcloud = WordCloud(background_color='white', height=1200,\n",
    "                          min_font_size=5, width=1400, color_func=color_func,\n",
    "                          max_words=300, relative_scaling=0.5,\n",
    "                          max_font_size=300)\n",
    "    wordcloud = wordcloud.generate_from_frequencies(dictionary)\n",
    "    axes[i].imshow(wordcloud, interpolation='bilinear')\n",
    "    axes[i].axis('off')\n",
    "    axes[i].set(title='{}\\n$R^2$={:.4}'.format(titles[i], score).title())\n"
   ]
  },
  {
   "cell_type": "markdown",
   "metadata": {},
   "source": [
    "### Plot correlation matrix"
   ]
  },
  {
   "cell_type": "code",
   "execution_count": null,
   "metadata": {},
   "outputs": [],
   "source": [
    "plt.figure(figsize=(12, 9))  \n",
    "ax=sns.heatmap(\n",
    "    pd.concat([df[col_quant],df[\"is_hit\"]],axis=1).corr(),\n",
    "    vmin=-1, vmax=1, annot=True, fmt='.2f')\n",
    "plt.show()"
   ]
  },
  {
   "cell_type": "markdown",
   "metadata": {},
   "source": [
    "### plot influenced song name words for target "
   ]
  },
  {
   "cell_type": "code",
   "execution_count": null,
   "metadata": {},
   "outputs": [],
   "source": [
    "stop_words= ['feat', 'remix', 'remastered', 'version', 'el', 'la', 'lil', 'don', 'radio', 'edit']\n",
    "def clean_text(series):\n",
    "    return series.str.replace('[^a-zA-Z]', ' ').replace('\\s+', ' ', regex=True).str.strip().str.lower()\n",
    "\n",
    "def clean_stopwords(series, stop_wrd=stop_words):\n",
    "    return series.fillna('').apply(\n",
    "        lambda text: ' '.join([word for word in text.split() if word.lower() not in stop_wrd]))\n",
    "\n",
    "def plot_wordcloud(text, title):\n",
    "    wordcloud = WordCloud(max_font_size=None, background_color='white',\n",
    "                      width=1200, height=1000).generate(text)\n",
    "    plt.imshow(wordcloud)\n",
    "    plt.title(title)\n",
    "    plt.axis(\"off\")\n",
    "\n",
    "fig, ax = plt.subplots(figsize = (16, 12))\n",
    "plt.subplot(1, 2, 1)\n",
    "lst_hit_name = clean_stopwords(clean_text(df.loc[df['is_hit'] == 1, 'song_name']))\n",
    "str_hit_name = ' '.join(lst_hit_name)\n",
    "plot_wordcloud(str_hit_name, 'Hits')\n",
    "\n",
    "plt.subplot(1, 2, 2)\n",
    "lst_nonhit_name = clean_stopwords(clean_text(df.loc[df['is_hit'] == 0, 'song_name']))\n",
    "str_nonhit_name = ' '.join(lst_nonhit_name)\n",
    "plot_wordcloud(str_nonhit_name, 'Not hits')\n",
    "\n",
    "plt.show()"
   ]
  },
  {
   "cell_type": "markdown",
   "metadata": {},
   "source": [
    "### Plot lyrics 3d embeddings space"
   ]
  },
  {
   "cell_type": "code",
   "execution_count": null,
   "metadata": {},
   "outputs": [],
   "source": [
    "sentences_vec = []\n",
    "for sent_str in df['lyrics']:\n",
    "    vec = text_to_vector(dct_fasttext, sent_str)\n",
    "    sentences_vec.append(vec)\n",
    "sentences_vec = np.array(sentences_vec)\n",
    "\n",
    "tsne = TSNE(n_components=3, learning_rate=200, random_state=0, n_iter=3_000)\n",
    "sentences_tsne = tsne.fit_transform(sentences_vec)\n",
    "\n",
    "x_coords = sentences_tsne[:, 0]\n",
    "y_coords = sentences_tsne[:, 1]\n",
    "z_coords = sentences_tsne[:, 2]\n",
    "\n",
    "df_tsne = pd.DataFrame({'lyrics_vec_x':x_coords, 'lyrics_vec_y':y_coords, 'lyrics_vec_z':z_coords})"
   ]
  },
  {
   "cell_type": "code",
   "execution_count": null,
   "metadata": {
    "scrolled": false
   },
   "outputs": [],
   "source": [
    "labelEncoder = LabelEncoder()\n",
    "dct_layout_options = {\n",
    "        'showbackground':False,\n",
    "        'zeroline': False,\n",
    "        'ticks': '',\n",
    "        'autorange': True,\n",
    "        'showgrid': False,\n",
    "        'zeroline': False,\n",
    "        'ticks': '',\n",
    "        'showticklabels': False,\n",
    "        'showspikes':False\n",
    "    }\n",
    "\n",
    "\n",
    "plot = [go.Scatter3d(x = x_coords,\n",
    "                    y = y_coords,\n",
    "                    z = z_coords,\n",
    "                    mode = 'markers',\n",
    "                    text = df['composition'],\n",
    "                    textposition='bottom center',\n",
    "                    hoverinfo = 'text',\n",
    "                    hovertext=df['composition'],\n",
    "                    textfont={\n",
    "                        \"color\": '#BEBEBE',}, \n",
    "                     \n",
    "                    marker=dict(size=5,\n",
    "                                opacity=0.8,\n",
    "                           colorscale='geyser',\n",
    "                                color=labelEncoder.fit_transform(df['is_hit']),))]\n",
    "\n",
    "layout = go.Layout(scene = dict(\n",
    "                    bgcolor = 'rgb(20, 24, 54)',\n",
    "                    xaxis =  dct_layout_options,    \n",
    "                    yaxis = dct_layout_options,\n",
    "                    zaxis = dct_layout_options,),\n",
    "                    width=700,\n",
    "                    margin=dict(\n",
    "                        r=10, l=10,\n",
    "                        b=10, t=10)\n",
    "                  )\n",
    "fig = go.Figure(data=plot, layout=layout)\n",
    "\n",
    "iplot(fig)"
   ]
  },
  {
   "cell_type": "markdown",
   "metadata": {},
   "source": [
    "# Modelling"
   ]
  },
  {
   "cell_type": "code",
   "execution_count": null,
   "metadata": {},
   "outputs": [],
   "source": [
    "col_trainless = ['genre', 'song_name', 'artist_name', 'song_popularity', 'is_hit', 'song', 'year', 'artist', 'lyrics', 'composition']\n",
    "df = pd.concat([df, df_tsne], axis=1)\n",
    "\n",
    "df_tr, df_te = train_test_split(df, test_size=0.2, random_state=1)\n",
    "\n",
    "train_X = df_tr.drop(col_trainless+col_cat, axis=1)\n",
    "test_X = df_te.drop(col_trainless+col_cat, axis=1)\n",
    "train_y = df_tr['is_hit']\n",
    "test_y = df_te['is_hit']\n",
    "feature_names = train_X.columns"
   ]
  },
  {
   "cell_type": "code",
   "execution_count": null,
   "metadata": {},
   "outputs": [],
   "source": [
    "scaler = MinMaxScaler()\n",
    "train_X_scale = scaler.fit_transform(train_X)\n",
    "test_X_scale = scaler.transform(test_X) "
   ]
  },
  {
   "cell_type": "code",
   "execution_count": null,
   "metadata": {},
   "outputs": [],
   "source": [
    "model = LogisticRegressionCV(Cs = [10, 1, 0.1, 0.001, 0.0005], max_iter=300, class_weight='balanced').fit(train_X_scale, train_y)"
   ]
  },
  {
   "cell_type": "markdown",
   "metadata": {},
   "source": [
    "# evaluating the results"
   ]
  },
  {
   "cell_type": "code",
   "execution_count": null,
   "metadata": {},
   "outputs": [],
   "source": [
    "se_pred = pd.Series(model.predict_proba(test_X_scale)[:,1], name='proba')\n",
    "\n",
    "print(f'roc_auc_score: {roc_auc_score(test_y, se_pred)}')"
   ]
  },
  {
   "cell_type": "code",
   "execution_count": null,
   "metadata": {},
   "outputs": [],
   "source": [
    "top_n = 3\n",
    "coef = pd.Series(model.coef_[0], index = feature_names)\n",
    "imp_coef = pd.concat([coef.sort_values().head(top_n),\n",
    "                     coef.sort_values().tail(top_n)])"
   ]
  },
  {
   "cell_type": "markdown",
   "metadata": {},
   "source": [
    "### plot model important feature"
   ]
  },
  {
   "cell_type": "code",
   "execution_count": null,
   "metadata": {},
   "outputs": [],
   "source": [
    "plt.rcParams['figure.figsize'] = (8, 6)\n",
    "imp_coef.plot(kind = \"barh\", color=(imp_coef>0).map({True:'r', False:'b'}).values)\n",
    "plt.title(\"Coefficients in the LogisticRegression\")"
   ]
  }
 ],
 "metadata": {
  "kernelspec": {
   "display_name": "Python 3",
   "language": "python",
   "name": "python3"
  },
  "language_info": {
   "codemirror_mode": {
    "name": "ipython",
    "version": 3
   },
   "file_extension": ".py",
   "mimetype": "text/x-python",
   "name": "python",
   "nbconvert_exporter": "python",
   "pygments_lexer": "ipython3",
   "version": "3.7.3"
  }
 },
 "nbformat": 4,
 "nbformat_minor": 2
}
